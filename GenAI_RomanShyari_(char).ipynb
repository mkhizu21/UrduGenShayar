{
  "nbformat": 4,
  "nbformat_minor": 0,
  "metadata": {
    "colab": {
      "provenance": [],
      "gpuType": "T4"
    },
    "kernelspec": {
      "name": "python3",
      "display_name": "Python 3"
    },
    "language_info": {
      "name": "python"
    },
    "accelerator": "GPU"
  },
  "cells": [
    {
      "cell_type": "markdown",
      "source": [
        "# **Text Preprocessing**\n"
      ],
      "metadata": {
        "id": "1gtRsMbfDMiu"
      }
    },
    {
      "cell_type": "code",
      "execution_count": 1,
      "metadata": {
        "id": "BAxty7b3C7JO"
      },
      "outputs": [],
      "source": [
        "import re\n",
        "import pandas as pd\n",
        "import torch\n",
        "import torch.nn as nn\n",
        "import torch.optim as optim\n",
        "from tqdm import tqdm\n",
        "from torch.utils.data import Dataset, DataLoader\n",
        "from torch.nn.utils.rnn import pad_sequence\n",
        "from tokenizers import Tokenizer\n",
        "from collections import Counter"
      ]
    },
    {
      "cell_type": "code",
      "source": [
        "def clean_text(text):\n",
        "    char_map = {\n",
        "        'ñ': 'n', 'ā': 'a', 'ī': 'i', 'ū': 'u', 'ḳ': 'k', 'ġ': 'g', 'Ḍ': 'D', 'D': 'D', 'ṣ': 's', 'ż': 'z', 'ḷ': 'l',\n",
        "        'ḥ': 'h', 'ṭ': 't', 'ḍ': 'd', 'ś': 's', 'ṁ': 'm', 'ṣ': 's', 'é': 'e', 'ó': 'o'\n",
        "    }\n",
        "\n",
        "    # Replace special characters\n",
        "    for special_char, normal_char in char_map.items():\n",
        "        text = text.replace(special_char, normal_char)\n",
        "\n",
        "    # Remove dots, commas, quotes, and question marks\n",
        "    text = re.sub(r'[.,\"\\'?]', '', text)\n",
        "\n",
        "    # Remove extra spaces but preserve new lines\n",
        "    text = re.sub(r'[ \\t]+', ' ', text).strip()\n",
        "\n",
        "    return text\n",
        "\n",
        "# Read CSV file\n",
        "df = pd.read_csv('Roman-Urdu-Poetry.csv')\n",
        "\n",
        "# Apply cleaning function to the 'Poetry' column\n",
        "df['Poetry'] = df['Poetry'].astype(str).apply(clean_text)\n",
        "\n",
        "# Print cleaned dataframe\n",
        "print(df.loc[0, 'Poetry'])\n",
        "# Save the cleaned DataFrame to a new CSV file\n",
        "df.to_csv('Cleaned_Roman_Urdu_Poetry.csv', index=False)\n",
        "\n",
        "# Download the file to your PC\n",
        "# from google.colab import files\n",
        "# files.download('Cleaned_Roman_Urdu_Poetry.csv')\n",
        "\n"
      ],
      "metadata": {
        "colab": {
          "base_uri": "https://localhost:8080/"
        },
        "id": "9xsMDo97DaAF",
        "outputId": "9793264f-d789-4cd5-ba5b-bcf2d87a2ea0"
      },
      "execution_count": null,
      "outputs": [
        {
          "output_type": "stream",
          "name": "stdout",
          "text": [
            "aankh se duur na ho dil se utar jaega \n",
            "vaqt ka kya hai guzarta hai guzar jaega \n",
            "itna manus na ho khalvat-e-gham se apni \n",
            "tu kabhi khud ko bhi dekhega to Dar jaega \n",
            "Dubte Dubte kashti ko uchhala de duun \n",
            "main nahin koi to sahil pe utar jaega \n",
            "zindagi teri ata hai to ye jaane vaala \n",
            "teri bakhshish tiri dahliz pe dhar jaega \n",
            "zabt lazim hai magar dukh hai qayamat ka faraz \n",
            "zalim ab ke bhi na roega to mar jaega\n"
          ]
        }
      ]
    },
    {
      "cell_type": "markdown",
      "source": [
        "# With Charater Pair Encoding"
      ],
      "metadata": {
        "id": "h-vSYso1AYkP"
      }
    },
    {
      "cell_type": "code",
      "source": [
        "# Character Tokenizer\n",
        "def char_tokenizer(text):\n",
        "    vocab = sorted(set(text))\n",
        "    token_to_id = {char: idx + 1 for idx, char in enumerate(vocab)}  # Reserve 0 for padding\n",
        "    token_to_id['<PAD>'] = 0\n",
        "    return token_to_id\n",
        "\n",
        "# Tokenize the entire dataset\n",
        "all_text = ' '.join(df['Poetry'].dropna().tolist())\n",
        "token_to_id = char_tokenizer(all_text)\n",
        "vocab_size = len(token_to_id)\n",
        "\n",
        "# Encode Poetry\n",
        "def encode_poetry(poem):\n",
        "    return [token_to_id.get(char, 0) for char in poem]  # 0 for unknown characters\n",
        "\n",
        "poetry_data = df['Poetry'].dropna().tolist()\n",
        "encoded_poetry = [encode_poetry(poem) for poem in poetry_data]\n",
        "\n",
        "# Dataset Class\n",
        "class ShayariDataset(Dataset):\n",
        "    def __init__(self, data):\n",
        "        self.data = data\n",
        "\n",
        "    def __len__(self):\n",
        "        return len(self.data)\n",
        "\n",
        "    def __getitem__(self, idx):\n",
        "        seq = self.data[idx]\n",
        "        return torch.tensor(seq[:-1]), torch.tensor(seq[1:])  # Input-Target pair\n",
        "\n",
        "# Custom Collate Function for Padding\n",
        "def collate_fn(batch):\n",
        "    inputs, targets = zip(*batch)\n",
        "    inputs_padded = pad_sequence(inputs, batch_first=True, padding_value=0)\n",
        "    targets_padded = pad_sequence(targets, batch_first=True, padding_value=0)\n",
        "    return inputs_padded, targets_padded\n",
        "\n",
        "# DataLoader\n",
        "dataset = ShayariDataset(encoded_poetry)\n",
        "dataloader = DataLoader(dataset, batch_size=32, shuffle=True, drop_last=True, collate_fn=collate_fn)\n",
        "\n",
        "# LSTM Model\n",
        "class ShayariLSTM(nn.Module):\n",
        "    def __init__(self, vocab_size, embed_dim, hidden_dim, num_layers, dropout=0.2):\n",
        "        super(ShayariLSTM, self).__init__()\n",
        "        self.embedding = nn.Embedding(vocab_size, embed_dim, padding_idx=0)\n",
        "        self.lstm = nn.LSTM(embed_dim, hidden_dim, num_layers, batch_first=True, dropout=dropout)\n",
        "        self.fc = nn.Linear(hidden_dim, vocab_size)\n",
        "\n",
        "    def forward(self, x, hidden):\n",
        "        x = self.embedding(x)\n",
        "        output, hidden = self.lstm(x, hidden)\n",
        "        output = self.fc(output)\n",
        "        return output, hidden\n",
        "\n",
        "    def init_hidden(self, batch_size, hidden_dim, num_layers, device):\n",
        "        return (torch.zeros(num_layers, batch_size, hidden_dim).to(device),\n",
        "                torch.zeros(num_layers, batch_size, hidden_dim).to(device))\n",
        "\n",
        "# Model Initialization\n",
        "embed_dim = 256\n",
        "hidden_dim = 512\n",
        "num_layers = 2\n",
        "dropout = 0.3\n",
        "device = torch.device('cuda' if torch.cuda.is_available() else 'cpu')\n",
        "\n",
        "model = ShayariLSTM(vocab_size, embed_dim, hidden_dim, num_layers, dropout).to(device)\n",
        "\n",
        "# Training Loop\n",
        "num_epochs = 100\n",
        "learning_rate = 0.001\n",
        "criterion = nn.CrossEntropyLoss(ignore_index=0)\n",
        "optimizer = optim.Adam(model.parameters(), lr=learning_rate)\n",
        "\n",
        "for epoch in range(1, num_epochs + 1):\n",
        "    model.train()\n",
        "    hidden = model.init_hidden(batch_size=32, hidden_dim=hidden_dim, num_layers=num_layers, device=device)\n",
        "\n",
        "    epoch_loss = 0\n",
        "    epoch_correct = 0\n",
        "    epoch_total = 0\n",
        "\n",
        "    progress_bar = tqdm(dataloader, desc=f\"Epoch {epoch}/{num_epochs}\", leave=False)\n",
        "\n",
        "    for inputs, targets in progress_bar:\n",
        "        inputs, targets = inputs.to(device), targets.to(device)\n",
        "\n",
        "        optimizer.zero_grad()\n",
        "        hidden = tuple(h.detach() for h in hidden)\n",
        "\n",
        "        output, hidden = model(inputs, hidden)\n",
        "        output = output.view(-1, output.size(2))\n",
        "        targets = targets.view(-1)\n",
        "\n",
        "        loss = criterion(output, targets)\n",
        "        loss.backward()\n",
        "        optimizer.step()\n",
        "\n",
        "        _, predicted = torch.max(output, dim=1)\n",
        "        mask = targets != 0\n",
        "        correct_predictions = (predicted[mask] == targets[mask]).sum().item()\n",
        "        total_valid_tokens = mask.sum().item()\n",
        "\n",
        "        epoch_loss += loss.item()\n",
        "        epoch_correct += correct_predictions\n",
        "        epoch_total += total_valid_tokens\n",
        "\n",
        "        progress_bar.set_postfix({\n",
        "            'Loss': loss.item(),\n",
        "            'Accuracy': f\"{correct_predictions / total_valid_tokens:.4f}\" if total_valid_tokens > 0 else \"N/A\"\n",
        "        })\n",
        "\n",
        "    avg_loss = epoch_loss / len(dataloader)\n",
        "    epoch_accuracy = epoch_correct / epoch_total if epoch_total > 0 else 0\n",
        "    print(f\"Epoch {epoch}, Average Loss: {avg_loss:.4f}, Accuracy: {epoch_accuracy:.4f}\")\n",
        "    if epoch % 10 == 0:\n",
        "        torch.save(model.state_dict(), f\"shayari_lstm_epoch{epoch}.pth\")\n",
        "        torch.save(optimizer.state_dict(), f\"optimizer_epoch{epoch}.pth\")\n",
        "        print(f\"✅ Model saved at epoch {epoch}\")\n",
        "\n",
        "torch.save(model.state_dict(), \"shayari_lstm_final.pth\")\n",
        "torch.save(optimizer.state_dict(), \"optimizer_final.pth\")\n",
        "print(\"✅ Final model saved successfully!\")"
      ],
      "metadata": {
        "colab": {
          "base_uri": "https://localhost:8080/"
        },
        "id": "gdDRDXtiAXCu",
        "outputId": "6b8c0249-19c8-412e-a766-03d80de8929c"
      },
      "execution_count": null,
      "outputs": [
        {
          "output_type": "stream",
          "name": "stderr",
          "text": []
        },
        {
          "output_type": "stream",
          "name": "stdout",
          "text": [
            "Epoch 1, Average Loss: 2.5046, Accuracy: 0.3100\n"
          ]
        },
        {
          "output_type": "stream",
          "name": "stderr",
          "text": []
        },
        {
          "output_type": "stream",
          "name": "stdout",
          "text": [
            "Epoch 2, Average Loss: 1.9382, Accuracy: 0.4259\n"
          ]
        },
        {
          "output_type": "stream",
          "name": "stderr",
          "text": []
        },
        {
          "output_type": "stream",
          "name": "stdout",
          "text": [
            "Epoch 3, Average Loss: 1.7655, Accuracy: 0.4681\n"
          ]
        },
        {
          "output_type": "stream",
          "name": "stderr",
          "text": []
        },
        {
          "output_type": "stream",
          "name": "stdout",
          "text": [
            "Epoch 4, Average Loss: 1.6620, Accuracy: 0.4948\n"
          ]
        },
        {
          "output_type": "stream",
          "name": "stderr",
          "text": []
        },
        {
          "output_type": "stream",
          "name": "stdout",
          "text": [
            "Epoch 5, Average Loss: 1.5920, Accuracy: 0.5132\n"
          ]
        },
        {
          "output_type": "stream",
          "name": "stderr",
          "text": []
        },
        {
          "output_type": "stream",
          "name": "stdout",
          "text": [
            "Epoch 6, Average Loss: 1.5377, Accuracy: 0.5270\n"
          ]
        },
        {
          "output_type": "stream",
          "name": "stderr",
          "text": []
        },
        {
          "output_type": "stream",
          "name": "stdout",
          "text": [
            "Epoch 7, Average Loss: 1.4982, Accuracy: 0.5364\n"
          ]
        },
        {
          "output_type": "stream",
          "name": "stderr",
          "text": []
        },
        {
          "output_type": "stream",
          "name": "stdout",
          "text": [
            "Epoch 8, Average Loss: 1.4649, Accuracy: 0.5447\n"
          ]
        },
        {
          "output_type": "stream",
          "name": "stderr",
          "text": []
        },
        {
          "output_type": "stream",
          "name": "stdout",
          "text": [
            "Epoch 9, Average Loss: 1.4391, Accuracy: 0.5516\n"
          ]
        },
        {
          "output_type": "stream",
          "name": "stderr",
          "text": []
        },
        {
          "output_type": "stream",
          "name": "stdout",
          "text": [
            "Epoch 10, Average Loss: 1.4165, Accuracy: 0.5567\n",
            "✅ Model saved at epoch 10\n"
          ]
        },
        {
          "output_type": "stream",
          "name": "stderr",
          "text": []
        },
        {
          "output_type": "stream",
          "name": "stdout",
          "text": [
            "Epoch 11, Average Loss: 1.3913, Accuracy: 0.5635\n"
          ]
        },
        {
          "output_type": "stream",
          "name": "stderr",
          "text": []
        },
        {
          "output_type": "stream",
          "name": "stdout",
          "text": [
            "Epoch 12, Average Loss: 1.3729, Accuracy: 0.5681\n"
          ]
        },
        {
          "output_type": "stream",
          "name": "stderr",
          "text": []
        },
        {
          "output_type": "stream",
          "name": "stdout",
          "text": [
            "Epoch 13, Average Loss: 1.3562, Accuracy: 0.5723\n"
          ]
        },
        {
          "output_type": "stream",
          "name": "stderr",
          "text": []
        },
        {
          "output_type": "stream",
          "name": "stdout",
          "text": [
            "Epoch 14, Average Loss: 1.3417, Accuracy: 0.5760\n"
          ]
        },
        {
          "output_type": "stream",
          "name": "stderr",
          "text": []
        },
        {
          "output_type": "stream",
          "name": "stdout",
          "text": [
            "Epoch 15, Average Loss: 1.3281, Accuracy: 0.5796\n"
          ]
        },
        {
          "output_type": "stream",
          "name": "stderr",
          "text": []
        },
        {
          "output_type": "stream",
          "name": "stdout",
          "text": [
            "Epoch 16, Average Loss: 1.3127, Accuracy: 0.5836\n"
          ]
        },
        {
          "output_type": "stream",
          "name": "stderr",
          "text": []
        },
        {
          "output_type": "stream",
          "name": "stdout",
          "text": [
            "Epoch 17, Average Loss: 1.3020, Accuracy: 0.5862\n"
          ]
        },
        {
          "output_type": "stream",
          "name": "stderr",
          "text": []
        },
        {
          "output_type": "stream",
          "name": "stdout",
          "text": [
            "Epoch 18, Average Loss: 1.2889, Accuracy: 0.5893\n"
          ]
        },
        {
          "output_type": "stream",
          "name": "stderr",
          "text": []
        },
        {
          "output_type": "stream",
          "name": "stdout",
          "text": [
            "Epoch 19, Average Loss: 1.2791, Accuracy: 0.5926\n"
          ]
        },
        {
          "output_type": "stream",
          "name": "stderr",
          "text": []
        },
        {
          "output_type": "stream",
          "name": "stdout",
          "text": [
            "Epoch 20, Average Loss: 1.2689, Accuracy: 0.5953\n",
            "✅ Model saved at epoch 20\n"
          ]
        },
        {
          "output_type": "stream",
          "name": "stderr",
          "text": []
        },
        {
          "output_type": "stream",
          "name": "stdout",
          "text": [
            "Epoch 21, Average Loss: 1.2561, Accuracy: 0.5987\n"
          ]
        },
        {
          "output_type": "stream",
          "name": "stderr",
          "text": []
        },
        {
          "output_type": "stream",
          "name": "stdout",
          "text": [
            "Epoch 22, Average Loss: 1.2435, Accuracy: 0.6020\n"
          ]
        },
        {
          "output_type": "stream",
          "name": "stderr",
          "text": []
        },
        {
          "output_type": "stream",
          "name": "stdout",
          "text": [
            "Epoch 23, Average Loss: 1.2343, Accuracy: 0.6048\n"
          ]
        },
        {
          "output_type": "stream",
          "name": "stderr",
          "text": []
        },
        {
          "output_type": "stream",
          "name": "stdout",
          "text": [
            "Epoch 24, Average Loss: 1.2255, Accuracy: 0.6075\n"
          ]
        },
        {
          "output_type": "stream",
          "name": "stderr",
          "text": []
        },
        {
          "output_type": "stream",
          "name": "stdout",
          "text": [
            "Epoch 25, Average Loss: 1.2134, Accuracy: 0.6110\n"
          ]
        },
        {
          "output_type": "stream",
          "name": "stderr",
          "text": []
        },
        {
          "output_type": "stream",
          "name": "stdout",
          "text": [
            "Epoch 26, Average Loss: 1.2026, Accuracy: 0.6139\n"
          ]
        },
        {
          "output_type": "stream",
          "name": "stderr",
          "text": []
        },
        {
          "output_type": "stream",
          "name": "stdout",
          "text": [
            "Epoch 27, Average Loss: 1.1927, Accuracy: 0.6171\n"
          ]
        },
        {
          "output_type": "stream",
          "name": "stderr",
          "text": []
        },
        {
          "output_type": "stream",
          "name": "stdout",
          "text": [
            "Epoch 28, Average Loss: 1.1834, Accuracy: 0.6199\n"
          ]
        },
        {
          "output_type": "stream",
          "name": "stderr",
          "text": []
        },
        {
          "output_type": "stream",
          "name": "stdout",
          "text": [
            "Epoch 29, Average Loss: 1.1708, Accuracy: 0.6235\n"
          ]
        },
        {
          "output_type": "stream",
          "name": "stderr",
          "text": []
        },
        {
          "output_type": "stream",
          "name": "stdout",
          "text": [
            "Epoch 30, Average Loss: 1.1639, Accuracy: 0.6257\n",
            "✅ Model saved at epoch 30\n"
          ]
        },
        {
          "output_type": "stream",
          "name": "stderr",
          "text": []
        },
        {
          "output_type": "stream",
          "name": "stdout",
          "text": [
            "Epoch 31, Average Loss: 1.1495, Accuracy: 0.6299\n"
          ]
        },
        {
          "output_type": "stream",
          "name": "stderr",
          "text": []
        },
        {
          "output_type": "stream",
          "name": "stdout",
          "text": [
            "Epoch 32, Average Loss: 1.1406, Accuracy: 0.6329\n"
          ]
        },
        {
          "output_type": "stream",
          "name": "stderr",
          "text": []
        },
        {
          "output_type": "stream",
          "name": "stdout",
          "text": [
            "Epoch 33, Average Loss: 1.1297, Accuracy: 0.6360\n"
          ]
        },
        {
          "output_type": "stream",
          "name": "stderr",
          "text": []
        },
        {
          "output_type": "stream",
          "name": "stdout",
          "text": [
            "Epoch 34, Average Loss: 1.1198, Accuracy: 0.6392\n"
          ]
        },
        {
          "output_type": "stream",
          "name": "stderr",
          "text": []
        },
        {
          "output_type": "stream",
          "name": "stdout",
          "text": [
            "Epoch 35, Average Loss: 1.1073, Accuracy: 0.6430\n"
          ]
        },
        {
          "output_type": "stream",
          "name": "stderr",
          "text": []
        },
        {
          "output_type": "stream",
          "name": "stdout",
          "text": [
            "Epoch 36, Average Loss: 1.0971, Accuracy: 0.6462\n"
          ]
        },
        {
          "output_type": "stream",
          "name": "stderr",
          "text": []
        },
        {
          "output_type": "stream",
          "name": "stdout",
          "text": [
            "Epoch 37, Average Loss: 1.0863, Accuracy: 0.6492\n"
          ]
        },
        {
          "output_type": "stream",
          "name": "stderr",
          "text": []
        },
        {
          "output_type": "stream",
          "name": "stdout",
          "text": [
            "Epoch 38, Average Loss: 1.0741, Accuracy: 0.6532\n"
          ]
        },
        {
          "output_type": "stream",
          "name": "stderr",
          "text": []
        },
        {
          "output_type": "stream",
          "name": "stdout",
          "text": [
            "Epoch 39, Average Loss: 1.0639, Accuracy: 0.6563\n"
          ]
        },
        {
          "output_type": "stream",
          "name": "stderr",
          "text": []
        },
        {
          "output_type": "stream",
          "name": "stdout",
          "text": [
            "Epoch 40, Average Loss: 1.0506, Accuracy: 0.6607\n",
            "✅ Model saved at epoch 40\n"
          ]
        },
        {
          "output_type": "stream",
          "name": "stderr",
          "text": []
        },
        {
          "output_type": "stream",
          "name": "stdout",
          "text": [
            "Epoch 41, Average Loss: 1.0395, Accuracy: 0.6641\n"
          ]
        },
        {
          "output_type": "stream",
          "name": "stderr",
          "text": []
        },
        {
          "output_type": "stream",
          "name": "stdout",
          "text": [
            "Epoch 42, Average Loss: 1.0300, Accuracy: 0.6674\n"
          ]
        },
        {
          "output_type": "stream",
          "name": "stderr",
          "text": []
        },
        {
          "output_type": "stream",
          "name": "stdout",
          "text": [
            "Epoch 43, Average Loss: 1.0181, Accuracy: 0.6714\n"
          ]
        },
        {
          "output_type": "stream",
          "name": "stderr",
          "text": []
        },
        {
          "output_type": "stream",
          "name": "stdout",
          "text": [
            "Epoch 44, Average Loss: 1.0045, Accuracy: 0.6753\n"
          ]
        },
        {
          "output_type": "stream",
          "name": "stderr",
          "text": []
        },
        {
          "output_type": "stream",
          "name": "stdout",
          "text": [
            "Epoch 45, Average Loss: 0.9962, Accuracy: 0.6779\n"
          ]
        },
        {
          "output_type": "stream",
          "name": "stderr",
          "text": []
        },
        {
          "output_type": "stream",
          "name": "stdout",
          "text": [
            "Epoch 46, Average Loss: 0.9832, Accuracy: 0.6823\n"
          ]
        },
        {
          "output_type": "stream",
          "name": "stderr",
          "text": []
        },
        {
          "output_type": "stream",
          "name": "stdout",
          "text": [
            "Epoch 47, Average Loss: 0.9738, Accuracy: 0.6853\n"
          ]
        },
        {
          "output_type": "stream",
          "name": "stderr",
          "text": []
        },
        {
          "output_type": "stream",
          "name": "stdout",
          "text": [
            "Epoch 48, Average Loss: 0.9625, Accuracy: 0.6888\n"
          ]
        },
        {
          "output_type": "stream",
          "name": "stderr",
          "text": []
        },
        {
          "output_type": "stream",
          "name": "stdout",
          "text": [
            "Epoch 49, Average Loss: 0.9500, Accuracy: 0.6929\n"
          ]
        },
        {
          "output_type": "stream",
          "name": "stderr",
          "text": []
        },
        {
          "output_type": "stream",
          "name": "stdout",
          "text": [
            "Epoch 50, Average Loss: 0.9382, Accuracy: 0.6970\n",
            "✅ Model saved at epoch 50\n"
          ]
        },
        {
          "output_type": "stream",
          "name": "stderr",
          "text": []
        },
        {
          "output_type": "stream",
          "name": "stdout",
          "text": [
            "Epoch 51, Average Loss: 0.9283, Accuracy: 0.7003\n"
          ]
        },
        {
          "output_type": "stream",
          "name": "stderr",
          "text": []
        },
        {
          "output_type": "stream",
          "name": "stdout",
          "text": [
            "Epoch 52, Average Loss: 0.9170, Accuracy: 0.7032\n"
          ]
        },
        {
          "output_type": "stream",
          "name": "stderr",
          "text": []
        },
        {
          "output_type": "stream",
          "name": "stdout",
          "text": [
            "Epoch 53, Average Loss: 0.9060, Accuracy: 0.7076\n"
          ]
        },
        {
          "output_type": "stream",
          "name": "stderr",
          "text": []
        },
        {
          "output_type": "stream",
          "name": "stdout",
          "text": [
            "Epoch 54, Average Loss: 0.8969, Accuracy: 0.7098\n"
          ]
        },
        {
          "output_type": "stream",
          "name": "stderr",
          "text": []
        },
        {
          "output_type": "stream",
          "name": "stdout",
          "text": [
            "Epoch 55, Average Loss: 0.8890, Accuracy: 0.7125\n"
          ]
        },
        {
          "output_type": "stream",
          "name": "stderr",
          "text": []
        },
        {
          "output_type": "stream",
          "name": "stdout",
          "text": [
            "Epoch 56, Average Loss: 0.8742, Accuracy: 0.7170\n"
          ]
        },
        {
          "output_type": "stream",
          "name": "stderr",
          "text": []
        },
        {
          "output_type": "stream",
          "name": "stdout",
          "text": [
            "Epoch 57, Average Loss: 0.8667, Accuracy: 0.7195\n"
          ]
        },
        {
          "output_type": "stream",
          "name": "stderr",
          "text": []
        },
        {
          "output_type": "stream",
          "name": "stdout",
          "text": [
            "Epoch 58, Average Loss: 0.8560, Accuracy: 0.7231\n"
          ]
        },
        {
          "output_type": "stream",
          "name": "stderr",
          "text": []
        },
        {
          "output_type": "stream",
          "name": "stdout",
          "text": [
            "Epoch 59, Average Loss: 0.8466, Accuracy: 0.7258\n"
          ]
        },
        {
          "output_type": "stream",
          "name": "stderr",
          "text": []
        },
        {
          "output_type": "stream",
          "name": "stdout",
          "text": [
            "Epoch 60, Average Loss: 0.8374, Accuracy: 0.7290\n",
            "✅ Model saved at epoch 60\n"
          ]
        },
        {
          "output_type": "stream",
          "name": "stderr",
          "text": []
        },
        {
          "output_type": "stream",
          "name": "stdout",
          "text": [
            "Epoch 61, Average Loss: 0.8274, Accuracy: 0.7319\n"
          ]
        },
        {
          "output_type": "stream",
          "name": "stderr",
          "text": []
        },
        {
          "output_type": "stream",
          "name": "stdout",
          "text": [
            "Epoch 62, Average Loss: 0.8190, Accuracy: 0.7350\n"
          ]
        },
        {
          "output_type": "stream",
          "name": "stderr",
          "text": []
        },
        {
          "output_type": "stream",
          "name": "stdout",
          "text": [
            "Epoch 63, Average Loss: 0.8076, Accuracy: 0.7381\n"
          ]
        },
        {
          "output_type": "stream",
          "name": "stderr",
          "text": []
        },
        {
          "output_type": "stream",
          "name": "stdout",
          "text": [
            "Epoch 64, Average Loss: 0.8000, Accuracy: 0.7404\n"
          ]
        },
        {
          "output_type": "stream",
          "name": "stderr",
          "text": []
        },
        {
          "output_type": "stream",
          "name": "stdout",
          "text": [
            "Epoch 65, Average Loss: 0.7901, Accuracy: 0.7440\n"
          ]
        },
        {
          "output_type": "stream",
          "name": "stderr",
          "text": []
        },
        {
          "output_type": "stream",
          "name": "stdout",
          "text": [
            "Epoch 66, Average Loss: 0.7822, Accuracy: 0.7460\n"
          ]
        },
        {
          "output_type": "stream",
          "name": "stderr",
          "text": []
        },
        {
          "output_type": "stream",
          "name": "stdout",
          "text": [
            "Epoch 67, Average Loss: 0.7748, Accuracy: 0.7487\n"
          ]
        },
        {
          "output_type": "stream",
          "name": "stderr",
          "text": []
        },
        {
          "output_type": "stream",
          "name": "stdout",
          "text": [
            "Epoch 68, Average Loss: 0.7669, Accuracy: 0.7510\n"
          ]
        },
        {
          "output_type": "stream",
          "name": "stderr",
          "text": []
        },
        {
          "output_type": "stream",
          "name": "stdout",
          "text": [
            "Epoch 69, Average Loss: 0.7578, Accuracy: 0.7538\n"
          ]
        },
        {
          "output_type": "stream",
          "name": "stderr",
          "text": []
        },
        {
          "output_type": "stream",
          "name": "stdout",
          "text": [
            "Epoch 70, Average Loss: 0.7532, Accuracy: 0.7551\n",
            "✅ Model saved at epoch 70\n"
          ]
        },
        {
          "output_type": "stream",
          "name": "stderr",
          "text": []
        },
        {
          "output_type": "stream",
          "name": "stdout",
          "text": [
            "Epoch 71, Average Loss: 0.7438, Accuracy: 0.7578\n"
          ]
        },
        {
          "output_type": "stream",
          "name": "stderr",
          "text": []
        },
        {
          "output_type": "stream",
          "name": "stdout",
          "text": [
            "Epoch 72, Average Loss: 0.7379, Accuracy: 0.7602\n"
          ]
        },
        {
          "output_type": "stream",
          "name": "stderr",
          "text": []
        },
        {
          "output_type": "stream",
          "name": "stdout",
          "text": [
            "Epoch 73, Average Loss: 0.7283, Accuracy: 0.7630\n"
          ]
        },
        {
          "output_type": "stream",
          "name": "stderr",
          "text": []
        },
        {
          "output_type": "stream",
          "name": "stdout",
          "text": [
            "Epoch 74, Average Loss: 0.7213, Accuracy: 0.7652\n"
          ]
        },
        {
          "output_type": "stream",
          "name": "stderr",
          "text": []
        },
        {
          "output_type": "stream",
          "name": "stdout",
          "text": [
            "Epoch 75, Average Loss: 0.7165, Accuracy: 0.7665\n"
          ]
        },
        {
          "output_type": "stream",
          "name": "stderr",
          "text": []
        },
        {
          "output_type": "stream",
          "name": "stdout",
          "text": [
            "Epoch 76, Average Loss: 0.7114, Accuracy: 0.7685\n"
          ]
        },
        {
          "output_type": "stream",
          "name": "stderr",
          "text": []
        },
        {
          "output_type": "stream",
          "name": "stdout",
          "text": [
            "Epoch 77, Average Loss: 0.7043, Accuracy: 0.7710\n"
          ]
        },
        {
          "output_type": "stream",
          "name": "stderr",
          "text": []
        },
        {
          "output_type": "stream",
          "name": "stdout",
          "text": [
            "Epoch 78, Average Loss: 0.6965, Accuracy: 0.7727\n"
          ]
        },
        {
          "output_type": "stream",
          "name": "stderr",
          "text": []
        },
        {
          "output_type": "stream",
          "name": "stdout",
          "text": [
            "Epoch 79, Average Loss: 0.6903, Accuracy: 0.7747\n"
          ]
        },
        {
          "output_type": "stream",
          "name": "stderr",
          "text": []
        },
        {
          "output_type": "stream",
          "name": "stdout",
          "text": [
            "Epoch 80, Average Loss: 0.6848, Accuracy: 0.7765\n",
            "✅ Model saved at epoch 80\n"
          ]
        },
        {
          "output_type": "stream",
          "name": "stderr",
          "text": []
        },
        {
          "output_type": "stream",
          "name": "stdout",
          "text": [
            "Epoch 81, Average Loss: 0.6780, Accuracy: 0.7787\n"
          ]
        },
        {
          "output_type": "stream",
          "name": "stderr",
          "text": []
        },
        {
          "output_type": "stream",
          "name": "stdout",
          "text": [
            "Epoch 82, Average Loss: 0.6735, Accuracy: 0.7800\n"
          ]
        },
        {
          "output_type": "stream",
          "name": "stderr",
          "text": []
        },
        {
          "output_type": "stream",
          "name": "stdout",
          "text": [
            "Epoch 83, Average Loss: 0.6666, Accuracy: 0.7823\n"
          ]
        },
        {
          "output_type": "stream",
          "name": "stderr",
          "text": []
        },
        {
          "output_type": "stream",
          "name": "stdout",
          "text": [
            "Epoch 84, Average Loss: 0.6581, Accuracy: 0.7849\n"
          ]
        },
        {
          "output_type": "stream",
          "name": "stderr",
          "text": []
        },
        {
          "output_type": "stream",
          "name": "stdout",
          "text": [
            "Epoch 85, Average Loss: 0.6561, Accuracy: 0.7849\n"
          ]
        },
        {
          "output_type": "stream",
          "name": "stderr",
          "text": []
        },
        {
          "output_type": "stream",
          "name": "stdout",
          "text": [
            "Epoch 86, Average Loss: 0.6491, Accuracy: 0.7872\n"
          ]
        },
        {
          "output_type": "stream",
          "name": "stderr",
          "text": []
        },
        {
          "output_type": "stream",
          "name": "stdout",
          "text": [
            "Epoch 87, Average Loss: 0.6446, Accuracy: 0.7894\n"
          ]
        },
        {
          "output_type": "stream",
          "name": "stderr",
          "text": []
        },
        {
          "output_type": "stream",
          "name": "stdout",
          "text": [
            "Epoch 88, Average Loss: 0.6383, Accuracy: 0.7909\n"
          ]
        },
        {
          "output_type": "stream",
          "name": "stderr",
          "text": []
        },
        {
          "output_type": "stream",
          "name": "stdout",
          "text": [
            "Epoch 89, Average Loss: 0.6341, Accuracy: 0.7920\n"
          ]
        },
        {
          "output_type": "stream",
          "name": "stderr",
          "text": []
        },
        {
          "output_type": "stream",
          "name": "stdout",
          "text": [
            "Epoch 90, Average Loss: 0.6287, Accuracy: 0.7935\n",
            "✅ Model saved at epoch 90\n"
          ]
        },
        {
          "output_type": "stream",
          "name": "stderr",
          "text": []
        },
        {
          "output_type": "stream",
          "name": "stdout",
          "text": [
            "Epoch 91, Average Loss: 0.6231, Accuracy: 0.7954\n"
          ]
        },
        {
          "output_type": "stream",
          "name": "stderr",
          "text": []
        },
        {
          "output_type": "stream",
          "name": "stdout",
          "text": [
            "Epoch 92, Average Loss: 0.6191, Accuracy: 0.7967\n"
          ]
        },
        {
          "output_type": "stream",
          "name": "stderr",
          "text": []
        },
        {
          "output_type": "stream",
          "name": "stdout",
          "text": [
            "Epoch 93, Average Loss: 0.6152, Accuracy: 0.7979\n"
          ]
        },
        {
          "output_type": "stream",
          "name": "stderr",
          "text": []
        },
        {
          "output_type": "stream",
          "name": "stdout",
          "text": [
            "Epoch 94, Average Loss: 0.6101, Accuracy: 0.7994\n"
          ]
        },
        {
          "output_type": "stream",
          "name": "stderr",
          "text": []
        },
        {
          "output_type": "stream",
          "name": "stdout",
          "text": [
            "Epoch 95, Average Loss: 0.6085, Accuracy: 0.8000\n"
          ]
        },
        {
          "output_type": "stream",
          "name": "stderr",
          "text": []
        },
        {
          "output_type": "stream",
          "name": "stdout",
          "text": [
            "Epoch 96, Average Loss: 0.6030, Accuracy: 0.8017\n"
          ]
        },
        {
          "output_type": "stream",
          "name": "stderr",
          "text": []
        },
        {
          "output_type": "stream",
          "name": "stdout",
          "text": [
            "Epoch 97, Average Loss: 0.5976, Accuracy: 0.8034\n"
          ]
        },
        {
          "output_type": "stream",
          "name": "stderr",
          "text": []
        },
        {
          "output_type": "stream",
          "name": "stdout",
          "text": [
            "Epoch 98, Average Loss: 0.5940, Accuracy: 0.8043\n"
          ]
        },
        {
          "output_type": "stream",
          "name": "stderr",
          "text": []
        },
        {
          "output_type": "stream",
          "name": "stdout",
          "text": [
            "Epoch 99, Average Loss: 0.5893, Accuracy: 0.8055\n"
          ]
        },
        {
          "output_type": "stream",
          "name": "stderr",
          "text": [
            "                                                                                           "
          ]
        },
        {
          "output_type": "stream",
          "name": "stdout",
          "text": [
            "Epoch 100, Average Loss: 0.5860, Accuracy: 0.8069\n",
            "✅ Model saved at epoch 100\n",
            "✅ Final model saved successfully!\n"
          ]
        },
        {
          "output_type": "stream",
          "name": "stderr",
          "text": [
            "\r"
          ]
        }
      ]
    },
    {
      "cell_type": "code",
      "source": [
        "# Load Model\n",
        "model = ShayariLSTM(vocab_size, embed_dim, hidden_dim, num_layers, dropout).to(device)\n",
        "model.load_state_dict(torch.load(\"shayari_lstm_final.pth\"))  # Load saved weights\n",
        "model.eval()  # Set model to evaluation mode\n",
        "\n",
        "# Text Generation Function\n",
        "def generate_text(start_seq, gen_length=50):\n",
        "    model.eval()  # Ensure model is in evaluation mode\n",
        "    tokens = [token_to_id.get(char, 0) for char in start_seq]\n",
        "    input_seq = torch.tensor(tokens).unsqueeze(0).to(device)\n",
        "    hidden = model.init_hidden(1, hidden_dim, num_layers, device)\n",
        "\n",
        "    generated = tokens\n",
        "\n",
        "    with torch.no_grad():\n",
        "        for _ in range(gen_length):\n",
        "            output, hidden = model(input_seq, hidden)\n",
        "            prob = torch.softmax(output[:, -1, :], dim=-1)\n",
        "            next_token = torch.argmax(prob, dim=-1).item()\n",
        "\n",
        "            generated.append(next_token)\n",
        "            input_seq = torch.tensor([[next_token]]).to(device)\n",
        "\n",
        "    # Convert IDs back to characters\n",
        "    id_to_token = {v: k for k, v in token_to_id.items()}\n",
        "    return ''.join([id_to_token.get(token, '') for token in generated])\n",
        "\n",
        "# Generate Sample Shayari\n",
        "sample_shayari = generate_text(\"tujh pe uthi hain\", gen_length=300)\n",
        "print(\"\\nGenerated Shayari:\\n\", sample_shayari)\n"
      ],
      "metadata": {
        "colab": {
          "base_uri": "https://localhost:8080/"
        },
        "id": "dde1WN_JUfV5",
        "outputId": "8d1ba7b5-342d-4d6a-ba28-389276f33b00"
      },
      "execution_count": null,
      "outputs": [
        {
          "output_type": "stream",
          "name": "stdout",
          "text": [
            "\n",
            "Generated Shayari:\n",
            " tujh pe uthi hain sab ke sab khvab bhi ho gaya \n",
            "us ki tegh-e-nigah ko abhi tabassum uzr \n",
            "yuun to sab kuchh andaz-e-gul-e-tar ka taara \n",
            "ki jaise abru-e-asar-e-bahar se vo sun \n",
            "main apne aap men sar tha aur bulandi tu \n",
            "vasl bhi saaya surashon ka arman ho gaya hasil \n",
            "abhi faqirana na main nashsha-e-mai bahut thi \n",
            "main \n"
          ]
        }
      ]
    }
  ]
}